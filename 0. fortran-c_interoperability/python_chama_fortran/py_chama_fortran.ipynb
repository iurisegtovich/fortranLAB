{
 "cells": [
  {
   "cell_type": "code",
   "execution_count": 1,
   "metadata": {},
   "outputs": [],
   "source": [
    "# compile, must use -fPIC"
   ]
  },
  {
   "cell_type": "code",
   "execution_count": 2,
   "metadata": {
    "scrolled": true
   },
   "outputs": [],
   "source": [
    "!gfortran -O0 -g -c testmod.f90 -o testmod.o -fcheck=all -fmax-errors=1 -fPIC -cpp"
   ]
  },
  {
   "cell_type": "code",
   "execution_count": 3,
   "metadata": {},
   "outputs": [],
   "source": [
    "# link, must use -shared to create a .so (equivalent to the windows .dll)"
   ]
  },
  {
   "cell_type": "code",
   "execution_count": 4,
   "metadata": {},
   "outputs": [],
   "source": [
    "!gfortran -shared testmod.o -o testmod.so"
   ]
  },
  {
   "cell_type": "code",
   "execution_count": 5,
   "metadata": {},
   "outputs": [],
   "source": [
    "from ctypes import * #cdll, CDLL, Array\n",
    "lib = cdll.LoadLibrary('./testmod.so')"
   ]
  },
  {
   "cell_type": "code",
   "execution_count": 6,
   "metadata": {
    "scrolled": true
   },
   "outputs": [
    {
     "name": "stdout",
     "output_type": "stream",
     "text": [
      "<CDLL './testmod.so', handle 561134d64240 at 0x7f777c21b630>\n"
     ]
    }
   ],
   "source": [
    "print(lib)"
   ]
  },
  {
   "cell_type": "markdown",
   "metadata": {},
   "source": [
    "# globals"
   ]
  },
  {
   "cell_type": "code",
   "execution_count": 7,
   "metadata": {
    "scrolled": true
   },
   "outputs": [
    {
     "name": "stdout",
     "output_type": "stream",
     "text": [
      "<class 'ctypes.CDLL.__init__.<locals>._FuncPtr'>\n",
      "<_FuncPtr object at 0x7f777c2b7368>\n",
      "<class 'ctypes.c_double'>\n",
      "c_double(653.0)\n",
      "653.0\n"
     ]
    }
   ],
   "source": [
    "#https://docs.python.org/3/library/ctypes.html#accessing-values-exported-from-dlls\n",
    "print(type(lib.a))\n",
    "print(lib.a)\n",
    "# lib.a() #The kernel appears to have died. It will restart automatically.\n",
    "\n",
    "py_a = c_double.in_dll(lib, \"a\")\n",
    "print(type(py_a))\n",
    "print(py_a)\n",
    "print(py_a.value)"
   ]
  },
  {
   "cell_type": "code",
   "execution_count": 8,
   "metadata": {},
   "outputs": [
    {
     "name": "stdout",
     "output_type": "stream",
     "text": [
      "<_FuncPtr object at 0x7f777c2b7430>\n",
      "<class '__main__.LP_c_double_Array_3'>\n",
      "<__main__.LP_c_double_Array_3 object at 0x7f777c232378>\n",
      "<__main__.c_double_Array_3 object at 0x7f777c2320d0>\n",
      "1.0\n",
      "2.0\n",
      "3.0\n"
     ]
    }
   ],
   "source": [
    "#https://docs.python.org/3/library/ctypes.html#accessing-values-exported-from-dlls\n",
    "print(lib.b)\n",
    "# lib.b() #The kernel appears to have died. It will restart automatically.\n",
    "\n",
    "py_b = pointer((c_double*3).in_dll(lib, \"b\"))\n",
    "print(type(py_b))\n",
    "print(py_b)\n",
    "print(py_b.contents)\n",
    "print(py_b.contents[0])\n",
    "print(py_b.contents[1])\n",
    "print(py_b.contents[2])"
   ]
  },
  {
   "cell_type": "markdown",
   "metadata": {},
   "source": [
    "# subroutines"
   ]
  },
  {
   "cell_type": "markdown",
   "metadata": {},
   "source": [
    "## void sub(void) with global effect    "
   ]
  },
  {
   "cell_type": "code",
   "execution_count": 9,
   "metadata": {},
   "outputs": [
    {
     "name": "stdout",
     "output_type": "stream",
     "text": [
      "1.0\n",
      "2.0\n",
      "3.0\n",
      "653.0\n",
      "<_FuncPtr object at 0x7f777c2b74f8>\n",
      "2.0\n",
      "3.0\n",
      "4.0\n",
      "654.0\n"
     ]
    }
   ],
   "source": [
    "#BEFORE\n",
    "print(py_b.contents[0])\n",
    "print(py_b.contents[1])\n",
    "print(py_b.contents[2])\n",
    "print(py_a.value)\n",
    "\n",
    "#THEN\n",
    "#call\n",
    "print(lib.testhw)\n",
    "void=lib.testhw()\n",
    "\n",
    "print(py_b.contents[0])\n",
    "print(py_b.contents[1])\n",
    "print(py_b.contents[2])\n",
    "print(py_a.value)\n"
   ]
  },
  {
   "cell_type": "markdown",
   "metadata": {},
   "source": [
    "# load pretty constants"
   ]
  },
  {
   "cell_type": "code",
   "execution_count": 10,
   "metadata": {
    "scrolled": true
   },
   "outputs": [
    {
     "name": "stdout",
     "output_type": "stream",
     "text": [
      "1.2246467991473532e-16\n"
     ]
    }
   ],
   "source": [
    "from math import sin, pi\n",
    "print(sin(pi))"
   ]
  },
  {
   "cell_type": "markdown",
   "metadata": {},
   "source": [
    "# subroutine receiving value"
   ]
  },
  {
   "cell_type": "code",
   "execution_count": 11,
   "metadata": {},
   "outputs": [
    {
     "name": "stdout",
     "output_type": "stream",
     "text": [
      "2.0\n",
      "3.0\n",
      "4.0\n",
      "654.0\n",
      "this function takes at least 4 arguments (0 given)\n",
      "3.141592653589793\n",
      "6.283185307179586\n",
      "9.42477796076938\n",
      "12.566370614359172\n"
     ]
    }
   ],
   "source": [
    "#BEFORE\n",
    "print(py_b.contents[0])\n",
    "print(py_b.contents[1])\n",
    "print(py_b.contents[2])\n",
    "print(py_a.value)\n",
    "\n",
    "#THEN\n",
    "x1 = c_double (pi)\n",
    "x2 = c_double (pi*2)\n",
    "x3 = c_double (pi*3)\n",
    "x4 = c_double (pi*4)\n",
    "\n",
    "#safety\n",
    "lib.testsubval.argtypes=[c_double, c_double,c_double,c_double]\n",
    "#badcall\n",
    "try:\n",
    "    void=lib.testsubval ( )\n",
    "except Exception as e:\n",
    "    print(e)\n",
    "#goodcall\n",
    "void=lib.testsubval(x1,x2,x3,x4)\n",
    "\n",
    "print(py_a.value)\n",
    "print(py_b.contents[0])\n",
    "print(py_b.contents[1])\n",
    "print(py_b.contents[2])"
   ]
  },
  {
   "cell_type": "markdown",
   "metadata": {},
   "source": [
    "# subroutine receiving reference"
   ]
  },
  {
   "cell_type": "markdown",
   "metadata": {},
   "source": [
    "## ctypes exports the byref() function which is used to pass parameters by reference\n",
    "> x and y are scalars"
   ]
  },
  {
   "cell_type": "code",
   "execution_count": 12,
   "metadata": {
    "scrolled": true
   },
   "outputs": [
    {
     "name": "stdout",
     "output_type": "stream",
     "text": [
      "argument 1: <class 'TypeError'>: expected c_double_Array_1 instance instead of c_double\n",
      "<class 'int'>\n",
      "2082678928\n",
      "3.141592653589793\n",
      "1.2246467991473532e-16\n"
     ]
    }
   ],
   "source": [
    "x = c_double (pi)\n",
    "y = c_double (1)\n",
    "#safety\n",
    "lib.testsub.argtypes=[(c_double*1), (c_double*1)]\n",
    "#badcall\n",
    "try:\n",
    "    void=lib.testsub ( (x),  (y))\n",
    "except Exception as e:\n",
    "    print(e)\n",
    "#goodcall\n",
    "void=lib.testsub (byref (x), byref (y))\n",
    "#results\n",
    "print(type(void))\n",
    "print(void) #what does this integer mean?\n",
    "print(x.value)\n",
    "print(y.value)"
   ]
  },
  {
   "cell_type": "markdown",
   "metadata": {},
   "source": [
    "# with array\n",
    "> x and y are 1 element arrays"
   ]
  },
  {
   "cell_type": "code",
   "execution_count": 13,
   "metadata": {},
   "outputs": [
    {
     "name": "stdout",
     "output_type": "stream",
     "text": [
      "argument 1: <class 'TypeError'>: expected c_double_Array_1 instance instead of pointer to c_double_Array_1\n",
      "<class 'int'>\n",
      "2082677976\n",
      "3.141592653589793\n",
      "1.2246467991473532e-16\n"
     ]
    }
   ],
   "source": [
    "x = (c_double*1) (pi)\n",
    "y = (c_double*1) (1)\n",
    "#safety\n",
    "lib.testsub.argtypes=[(c_double*1), (c_double*1)]\n",
    "#badcall\n",
    "try:\n",
    "    void=lib.testsub ( byref(x),  byref(y))\n",
    "except Exception as e:\n",
    "    print(e)\n",
    "#goodcall\n",
    "void=lib.testsub ( (x),  (y))\n",
    "#results\n",
    "print(type(void))\n",
    "print(void) #what does this integer mean?\n",
    "print(x[0])\n",
    "print(y[0])"
   ]
  },
  {
   "cell_type": "markdown",
   "metadata": {},
   "source": [
    "## The same effect can be achieved with the pointer() function, although pointer() does a lot more work since it constructs a real pointer object\n",
    "> x and y are 1 pointers"
   ]
  },
  {
   "cell_type": "code",
   "execution_count": 14,
   "metadata": {},
   "outputs": [
    {
     "name": "stdout",
     "output_type": "stream",
     "text": [
      "<class 'int'>\n",
      "2082680016\n",
      "3.141592653589793\n",
      "1.2246467991473532e-16\n"
     ]
    }
   ],
   "source": [
    "x = c_double (pi)\n",
    "y = c_double (1)\n",
    "#safety\n",
    "#ctypes.POINTER(type)\n",
    "#This factory function creates and returns a new ctypes pointer type. Pointer types are cached and reused internally, so calling this function repeatedly is cheap. type must be a ctypes type.\n",
    "lib.testsub.argtypes=[POINTER(c_double), POINTER(c_double)]\n",
    "#badcall\n",
    "# try:\n",
    "#     void=lib.testsub ( (x),  (y))\n",
    "# except Exception as e:\n",
    "#     print(e)\n",
    "#goodcall\n",
    "#This function creates a new pointer instance, pointing to obj. The returned object is of the type POINTER(type(obj)).\n",
    "#  Note: If you just want to pass a pointer to an object to a foreign function call, you should use byref(obj) which is much faster.\n",
    "px=pointer(x)\n",
    "py=pointer(y)\n",
    "void=lib.testsub (px, py)\n",
    "#results\n",
    "print(type(void))\n",
    "print(void) #what does this integer mean?\n",
    "print(x.value)\n",
    "print(y.value)"
   ]
  },
  {
   "cell_type": "markdown",
   "metadata": {},
   "source": [
    "## subroutine processing one lengthy array"
   ]
  },
  {
   "cell_type": "code",
   "execution_count": 15,
   "metadata": {},
   "outputs": [
    {
     "name": "stdout",
     "output_type": "stream",
     "text": [
      "<class '__main__.c_double_Array_10'>\n",
      "<__main__.c_double_Array_10 object at 0x7f777c2328c8>\n",
      "-1.0\n",
      "-2.0\n",
      "-3.0\n",
      "argument 1: <class 'TypeError'>: expected c_double_Array_10 instance instead of pointer to c_double_Array_10\n",
      "<class '__main__.c_double_Array_10'>\n",
      "<__main__.c_double_Array_10 object at 0x7f777c2328c8>\n",
      "1.0\n",
      "2.0\n",
      "3.0\n"
     ]
    }
   ],
   "source": [
    "res=(c_double*10)(-1,-2, -3, -4, -5, -6, -7, -8, -9, -10)\n",
    "print(type(res))\n",
    "print(res)\n",
    "print(res[0])\n",
    "print(res[1])\n",
    "print(res[2])\n",
    "\n",
    "lib.testsub2.argtypes=[c_double*10]\n",
    "\n",
    "#badcall\n",
    "try:\n",
    "    void=lib.testsub2(byref (res))\n",
    "except Exception as e:\n",
    "    print(e)\n",
    "#goodcall\n",
    "    void=lib.testsub2((res))\n",
    "\n",
    "print(type(res))\n",
    "print(res)\n",
    "print(res[0])\n",
    "print(res[1])\n",
    "print(res[2])"
   ]
  },
  {
   "cell_type": "markdown",
   "metadata": {},
   "source": [
    "## subroutine processing two lengthy array"
   ]
  },
  {
   "cell_type": "code",
   "execution_count": 16,
   "metadata": {},
   "outputs": [
    {
     "name": "stdout",
     "output_type": "stream",
     "text": [
      "<class '__main__.c_double_Array_10'>\n",
      "<__main__.c_double_Array_10 object at 0x7f777c232ae8>\n",
      "1.0\n",
      "2.0\n",
      "3.0\n",
      "<class '__main__.c_double_Array_10'>\n",
      "<__main__.c_double_Array_10 object at 0x7f777c232a60>\n",
      "-1.0\n",
      "-2.0\n",
      "-3.0\n",
      "argument 1: <class 'TypeError'>: expected c_double_Array_10 instance instead of pointer to c_double_Array_10\n",
      "<class '__main__.c_double_Array_10'>\n",
      "<__main__.c_double_Array_10 object at 0x7f777c232ae8>\n",
      "1.0\n",
      "2.0\n",
      "3.0\n",
      "<class '__main__.c_double_Array_10'>\n",
      "<__main__.c_double_Array_10 object at 0x7f777c232a60>\n",
      "2.0\n",
      "4.0\n",
      "6.0\n"
     ]
    }
   ],
   "source": [
    "a1 = (c_double * 10)(1, 2, 3, 4, 5, 6, 7, 8, 9, 10)\n",
    "a2 = (c_double * 10)(-1,-2, -3, -4, -5, -6, -7, -8, -9, -10)\n",
    "\n",
    "print(type(a1))\n",
    "print(a1)\n",
    "print(a1[0])\n",
    "print(a1[1])\n",
    "print(a1[2])\n",
    "\n",
    "\n",
    "print(type(a2))\n",
    "print(a2)\n",
    "print(a2[0])\n",
    "print(a2[1])\n",
    "print(a2[2])\n",
    "\n",
    "\n",
    "lib.testsub3.argtypes=[c_double*10,c_double*10]\n",
    "\n",
    "#badcall\n",
    "try:\n",
    "    void=lib.testsub3(byref (a1), byref (a2))\n",
    "except Exception as e:\n",
    "    print(e)\n",
    "#goodcall\n",
    "    void=lib.testsub3(a1,a2)\n",
    "\n",
    "print(type(a1))\n",
    "print(a1)\n",
    "print(a1[0])\n",
    "print(a1[1])\n",
    "print(a1[2])\n",
    "\n",
    "\n",
    "print(type(a2))\n",
    "print(a2)\n",
    "print(a2[0])\n",
    "print(a2[1])\n",
    "print(a2[2])\n"
   ]
  },
  {
   "cell_type": "markdown",
   "metadata": {
    "scrolled": true
   },
   "source": [
    "## via numpy"
   ]
  },
  {
   "cell_type": "code",
   "execution_count": 17,
   "metadata": {},
   "outputs": [],
   "source": [
    "#https://docs.scipy.org/doc/numpy-1.13.0/reference/routines.ctypeslib.html\n",
    "import numpy as np\n",
    "import numpy.ctypeslib as nct"
   ]
  },
  {
   "cell_type": "markdown",
   "metadata": {},
   "source": [
    "### An ndpointer instance is used to describe an ndarray in restypes and argtypes specifications. This approach is more flexible than using, for example, POINTER(c_double), since several restrictions can be specified, which are verified upon calling the ctypes function. These include data type, number of dimensions, shape and flags. If a given array does not satisfy the specified restrictions, a TypeError is raised.\n",
    "(https://docs.scipy.org/doc/numpy-1.13.0/reference/routines.ctypeslib.html)"
   ]
  },
  {
   "cell_type": "code",
   "execution_count": 18,
   "metadata": {
    "scrolled": true
   },
   "outputs": [
    {
     "name": "stdout",
     "output_type": "stream",
     "text": [
      "<class 'numpy.ndarray'>\n",
      "<class 'numpy.ndarray'>\n",
      "[ 1.  2.  3.]\n",
      "[ 0.  0.  0.]\n",
      "<class 'numpy.ndarray'>\n",
      "<class 'numpy.ndarray'>\n",
      "[ 1.  2.  3.]\n",
      "[ 2.  4.  6.]\n"
     ]
    }
   ],
   "source": [
    "npa1=np.array([1,2,3],dtype=np.float64)\n",
    "npa2=np.array([0,0,0],dtype=np.float64)\n",
    "\n",
    "print(type(npa1))\n",
    "print(type(npa2))\n",
    "\n",
    "print(npa1)\n",
    "print(npa2)\n",
    "\n",
    "lib.testsub3.argtypes = [np.ctypeslib.ndpointer(dtype=np.float64,\n",
    "                                                  ndim=1,\n",
    "                                                  flags='C_CONTIGUOUS'),\n",
    "                                 np.ctypeslib.ndpointer(dtype=np.float64,\n",
    "                                                  ndim=1,\n",
    "                                                  flags='C_CONTIGUOUS')]\n",
    " \n",
    "\n",
    "void=lib.testsub3(npa1,npa2)\n",
    "\n",
    "print(type(npa1))\n",
    "print(type(npa2))\n",
    "\n",
    "print(npa1)\n",
    "print(npa2)"
   ]
  },
  {
   "cell_type": "code",
   "execution_count": 19,
   "metadata": {},
   "outputs": [
    {
     "name": "stdout",
     "output_type": "stream",
     "text": [
      "<class 'numpy.ndarray'>\n",
      "<class 'numpy.ndarray'>\n",
      "[ 1.  2.  3.]\n",
      "[ 2.  4.  6.]\n"
     ]
    }
   ],
   "source": [
    "print(type(npa1))\n",
    "print(type(npa2))\n",
    "\n",
    "print(npa1)\n",
    "print(npa2)"
   ]
  },
  {
   "cell_type": "markdown",
   "metadata": {
    "collapsed": true
   },
   "source": [
    "# function"
   ]
  },
  {
   "cell_type": "code",
   "execution_count": null,
   "metadata": {},
   "outputs": [
    {
     "name": "stdout",
     "output_type": "stream",
     "text": [
      "1.0\n",
      "1.0\n"
     ]
    }
   ],
   "source": [
    "argin = c_double(1)\n",
    "print(argin.value)\n",
    "\n",
    "res = c_double(1)\n",
    "print(res.value)\n"
   ]
  },
  {
   "cell_type": "code",
   "execution_count": null,
   "metadata": {},
   "outputs": [],
   "source": [
    "libm = cdll.LoadLibrary(util.find_library(\"m\"))"
   ]
  },
  {
   "cell_type": "code",
   "execution_count": null,
   "metadata": {},
   "outputs": [],
   "source": [
    "libm.sin.restype = c_double\n",
    "libm.sin.argtypes = [c_double]\n",
    "ans=libm.sin(argin)\n",
    "print(ans)"
   ]
  },
  {
   "cell_type": "code",
   "execution_count": null,
   "metadata": {},
   "outputs": [],
   "source": [
    "lib.sin.restype = c_double\n",
    "lib.sin.argtypes = [c_double]\n",
    "ans=lib.sin(argin)\n",
    "print(ans)"
   ]
  },
  {
   "cell_type": "code",
   "execution_count": null,
   "metadata": {},
   "outputs": [],
   "source": [
    "lib.testfunctionbyval.restype = c_double\n",
    "lib.testfunctionbyval.argtypes = [c_double]\n",
    "ans=lib.testfunctionbyval(argin)\n",
    "print(ans)"
   ]
  },
  {
   "cell_type": "code",
   "execution_count": null,
   "metadata": {},
   "outputs": [],
   "source": [
    "lib.testfunctionbyref.restype = c_double\n",
    "lib.testfunctionbyref.argtypes = [c_double*1]\n",
    "ans=lib.testfunctionbyref(byref(argin))\n",
    "print(ans)"
   ]
  },
  {
   "cell_type": "code",
   "execution_count": null,
   "metadata": {},
   "outputs": [],
   "source": [
    "lib.testsizearrayn.argtypes = [c_int, POINTER(c_int*10), (c_int*1)]\n",
    "\n",
    "v=(c_int*10)(-1,-2, -3, -4, -5, -6, -7, -8, -9, -10)\n",
    "pv=pointer(v)\n",
    "\n",
    "ci = c_int(1213)\n",
    "\n",
    "void=lib.testsizearrayn(10, pv, byref(ci))\n",
    "print(ci.value)"
   ]
  },
  {
   "cell_type": "code",
   "execution_count": null,
   "metadata": {},
   "outputs": [],
   "source": [
    " "
   ]
  },
  {
   "cell_type": "code",
   "execution_count": null,
   "metadata": {},
   "outputs": [],
   "source": [
    "#static argtypes\n",
    "lib.testsizearray2.argtypes = [ (c_int*10),\n",
    "                              (c_int*1)]\n",
    "\n",
    "v=(c_int*10)(-1,-2, -3, -4, -5, -6, -7, -8, -9, -10)\n",
    "\n",
    "\n",
    "ci = c_int(1213)\n",
    "\n",
    "void=lib.testsizearray2( v, byref(ci))\n",
    "print(ci.value)"
   ]
  },
  {
   "cell_type": "code",
   "execution_count": null,
   "metadata": {},
   "outputs": [],
   "source": [
    "stop"
   ]
  },
  {
   "cell_type": "code",
   "execution_count": null,
   "metadata": {},
   "outputs": [],
   "source": [
    "#dynamic argtypes\n",
    "\n",
    "lib.testsizearray3.argtypes = [ np.ctypeslib.ndpointer(dtype=np.int,\n",
    "                                                  ndim=1,\n",
    "                                                  flags='C_CONTIGUOUS'),\n",
    "                              (c_int*1)]\n",
    "\n",
    "v=np.array([-1,-2, -3, -4, -5, -6, -7, -8, -9, -10],dtype=np.int)\n",
    "\n",
    "\n",
    "ci = c_int(1213)\n",
    "\n",
    "void=lib.testsizearray3( v, byref(ci))\n",
    "print(ci.value)"
   ]
  },
  {
   "cell_type": "code",
   "execution_count": null,
   "metadata": {},
   "outputs": [],
   "source": [
    "stop"
   ]
  },
  {
   "cell_type": "code",
   "execution_count": null,
   "metadata": {},
   "outputs": [],
   "source": [
    "#dynamic argtypes\n",
    "# npa1=np.array([1,2,3],dtype=np.float64)\n",
    "# lib.testsub3.argtypes = [np.ctypeslib.ndpointer(dtype=np.float64,\n",
    "#                                                   ndim=1,\n",
    "#                                                   flags='C_CONTIGUOUS'),\n",
    "\n",
    "\n",
    "lib.testsizearray3b.argtypes = [ c_int,\n",
    "                                \n",
    "                                np.ctypeslib.ndpointer(dtype=np.float64,\n",
    "                                                  ndim=1,\n",
    "                                                  flags='C_CONTIGUOUS'),\n",
    "                              (c_int*1)]\n",
    "\n",
    "v=np.array([-1,-2, -3, -4, -5, -6, -7, -8, -9, -10],dtype=np.float64)\n",
    "\n",
    "\n",
    "ci = c_int(1213)\n",
    "\n",
    "void=lib.testsizearray3b( 10,v, byref(ci))\n",
    "print(ci.value)\n",
    "\n",
    "#ESSA 3B TAVA DANDO ERRADO COM O INT, VER COMPATIBILIDADE DE TIPOS ENTRE NP.INT E C_INT"
   ]
  },
  {
   "cell_type": "code",
   "execution_count": null,
   "metadata": {},
   "outputs": [],
   "source": [
    "lib.testsizearray1.argtypes = [ (c_int*10),\n",
    "                              (c_int*1)]\n",
    "\n",
    "v=(c_int*10)(-1,-2, -3, -4, -5, -6, -7, -8, -9, -10)\n",
    "\n",
    "\n",
    "ci = c_int(1213)\n",
    "\n",
    "void=lib.testsizearray1( v, byref(ci))\n",
    "print(ci.value)"
   ]
  },
  {
   "cell_type": "code",
   "execution_count": null,
   "metadata": {},
   "outputs": [],
   "source": [
    "# char e string\n",
    "\n",
    "lib.testhelloworld.argtypes = [ c_int, (c_char_p), (c_char)*1]\n",
    "\n",
    "mychar= c_char(b\"A\")\n",
    "mystring=c_char_p(b\"HELLOWORLD\")\n",
    "N=c_int(len(mystring.value))\n",
    "print(N.value)\n",
    "void=lib.testhelloworld( N, (mystring), byref(mychar))\n",
    "\n",
    "\n"
   ]
  },
  {
   "cell_type": "code",
   "execution_count": null,
   "metadata": {},
   "outputs": [],
   "source": [
    "# char e string\n",
    "\n",
    "lib.testanswer.argtypes = [ c_int, (c_char_p), (c_char)*1]\n",
    "\n",
    "mychar= c_char(b\"A\")\n",
    "mystring=c_char_p(b\"HELLOWORLD\")\n",
    "N=c_int(len(mystring.value))\n",
    "print(N.value)\n",
    "void=lib.testanswer( N, (mystring), byref(mychar))\n",
    "\n",
    "\n"
   ]
  },
  {
   "cell_type": "code",
   "execution_count": null,
   "metadata": {},
   "outputs": [],
   "source": [
    "print(mystring)\n",
    "print(mystring.value)\n",
    "print(mychar)\n",
    "print(mychar.value)"
   ]
  },
  {
   "cell_type": "markdown",
   "metadata": {},
   "source": [
    "# test allocatable"
   ]
  },
  {
   "cell_type": "code",
   "execution_count": null,
   "metadata": {},
   "outputs": [],
   "source": [
    "\n",
    "lib.testallocatable.argtypes = [ (c_int)*1, POINTER(c_int)] #times any number?\n",
    "\n",
    "myint= c_int(0)\n",
    "\n",
    "print(myint.value)\n",
    "\n",
    "mypointer= POINTER(c_int)() #null_ptr\n",
    "\n",
    "# void=lib.testallocatable( byref(myint), mypointer)\n",
    "\n",
    "\n"
   ]
  },
  {
   "cell_type": "code",
   "execution_count": null,
   "metadata": {},
   "outputs": [],
   "source": [
    "#i guess this ones need c_ptr and c_loc\n",
    "void=lib.testallocatable( byref(myint), byref(mypointer))\n"
   ]
  },
  {
   "cell_type": "code",
   "execution_count": null,
   "metadata": {},
   "outputs": [],
   "source": [
    "!pcmanfm"
   ]
  }
 ],
 "metadata": {
  "kernelspec": {
   "display_name": "Python [default]",
   "language": "python",
   "name": "python3"
  },
  "language_info": {
   "codemirror_mode": {
    "name": "ipython",
    "version": 3
   },
   "file_extension": ".py",
   "mimetype": "text/x-python",
   "name": "python",
   "nbconvert_exporter": "python",
   "pygments_lexer": "ipython3",
   "version": "3.6.3"
  }
 },
 "nbformat": 4,
 "nbformat_minor": 2
}
