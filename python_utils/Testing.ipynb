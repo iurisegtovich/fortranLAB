{
 "cells": [
  {
   "cell_type": "code",
   "execution_count": 1,
   "metadata": {
    "collapsed": false
   },
   "outputs": [],
   "source": [
    "from project_lnslib import python_utils"
   ]
  },
  {
   "cell_type": "code",
   "execution_count": 2,
   "metadata": {
    "collapsed": false
   },
   "outputs": [
    {
     "name": "stdout",
     "output_type": "stream",
     "text": [
      "Help on module project_lnslib.python_utils.logspacedx in project_lnslib.python_utils:\n",
      "\n",
      "NAME\n",
      "    project_lnslib.python_utils.logspacedx - #logspacedx\n",
      "\n",
      "FUNCTIONS\n",
      "    logspacedx(xmin, xmax, npt, base=10)\n",
      "        returns log spaced x from xmin to xmax by calling numpy logspace from emin to emax where xmin=b**emin and xmax=b**emax\n",
      "\n",
      "FILE\n",
      "    /home/segtovichisv/Dropbox/Workspaces/20171128-project--compressible-vdwnp/project_lnslib/python_utils/logspacedx.py\n",
      "\n",
      "\n"
     ]
    }
   ],
   "source": [
    "from project_lnslib.python_utils import logspacedx\n",
    "help (logspacedx)"
   ]
  },
  {
   "cell_type": "code",
   "execution_count": 3,
   "metadata": {
    "collapsed": false
   },
   "outputs": [
    {
     "name": "stdout",
     "output_type": "stream",
     "text": [
      "Help on module project_lnslib.python_utils.version_manifest in project_lnslib.python_utils:\n",
      "\n",
      "NAME\n",
      "    project_lnslib.python_utils.version_manifest - # version manifest\n",
      "\n",
      "FUNCTIONS\n",
      "    version_manifest(f)\n",
      "\n",
      "DATA\n",
      "    modification_time = '\"29/11/17 13:40:03\"'\n",
      "    phys_file_path_str = '/home/segtovichisv/Storage/github-clones/fortran...\n",
      "\n",
      "FILE\n",
      "    /home/segtovichisv/Dropbox/Workspaces/20171128-project--compressible-vdwnp/project_lnslib/python_utils/version_manifest.py\n",
      "\n",
      "\n"
     ]
    }
   ],
   "source": [
    "from project_lnslib.python_utils import version_manifest\n",
    "help(version_manifest)"
   ]
  },
  {
   "cell_type": "code",
   "execution_count": 4,
   "metadata": {
    "collapsed": false
   },
   "outputs": [
    {
     "name": "stdout",
     "output_type": "stream",
     "text": [
      "/home/segtovichisv/Storage/github-clones/fortranLAB/python_utils/version_manifest.py\n",
      "\"29/11/17 13:40:03\"\n"
     ]
    }
   ],
   "source": [
    "print( version_manifest.phys_file_path_str )\n",
    "print( version_manifest.modification_time )"
   ]
  },
  {
   "cell_type": "code",
   "execution_count": 6,
   "metadata": {
    "collapsed": false
   },
   "outputs": [
    {
     "name": "stdout",
     "output_type": "stream",
     "text": [
      "/home/segtovichisv/Dropbox/Workspaces/20171128-project--compressible-vdwnp/Testing.ipynb\n",
      "\"29/11/17 13:40:58\"\n"
     ]
    }
   ],
   "source": [
    "thisfile = \"Testing.ipynb\"\n",
    "thismanifest=version_manifest.version_manifest(thisfile)\n",
    "print(thismanifest[0])\n",
    "print(thismanifest[1])"
   ]
  }
 ],
 "metadata": {
  "kernelspec": {
   "display_name": "Python 3",
   "language": "python",
   "name": "python3"
  },
  "language_info": {
   "codemirror_mode": {
    "name": "ipython",
    "version": 3
   },
   "file_extension": ".py",
   "mimetype": "text/x-python",
   "name": "python",
   "nbconvert_exporter": "python",
   "pygments_lexer": "ipython3",
   "version": "3.6.0"
  }
 },
 "nbformat": 4,
 "nbformat_minor": 2
}
