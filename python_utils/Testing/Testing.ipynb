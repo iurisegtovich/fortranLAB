{
 "cells": [
  {
   "cell_type": "markdown",
   "metadata": {},
   "source": [
    "# Testing"
   ]
  },
  {
   "cell_type": "code",
   "execution_count": 1,
   "metadata": {
    "collapsed": false
   },
   "outputs": [
    {
     "name": "stdout",
     "output_type": "stream",
     "text": [
      "['/home/segtovichisv']\n"
     ]
    }
   ],
   "source": [
    "homepath=!echo ~\n",
    "print(homepath)"
   ]
  },
  {
   "cell_type": "code",
   "execution_count": 2,
   "metadata": {
    "collapsed": false
   },
   "outputs": [
    {
     "name": "stdout",
     "output_type": "stream",
     "text": [
      "['', '/home/segtovichisv/anaconda3/lib/python36.zip', '/home/segtovichisv/anaconda3/lib/python3.6', '/home/segtovichisv/anaconda3/lib/python3.6/lib-dynload', '/home/segtovichisv/anaconda3/lib/python3.6/site-packages', '/home/segtovichisv/anaconda3/lib/python3.6/site-packages/Sphinx-1.5.1-py3.6.egg', '/home/segtovichisv/anaconda3/lib/python3.6/site-packages/setuptools-27.2.0-py3.6.egg', '/home/segtovichisv/anaconda3/lib/python3.6/site-packages/IPython/extensions', '/home/segtovichisv/.ipython']\n",
      "['/home/segtovichisv/Storage/github-clones/fortranLAB', '', '/home/segtovichisv/anaconda3/lib/python36.zip', '/home/segtovichisv/anaconda3/lib/python3.6', '/home/segtovichisv/anaconda3/lib/python3.6/lib-dynload', '/home/segtovichisv/anaconda3/lib/python3.6/site-packages', '/home/segtovichisv/anaconda3/lib/python3.6/site-packages/Sphinx-1.5.1-py3.6.egg', '/home/segtovichisv/anaconda3/lib/python3.6/site-packages/setuptools-27.2.0-py3.6.egg', '/home/segtovichisv/anaconda3/lib/python3.6/site-packages/IPython/extensions', '/home/segtovichisv/.ipython']\n"
     ]
    }
   ],
   "source": [
    "import sys\n",
    "print(sys.path)\n",
    "\n",
    "sys.path.insert(0, homepath[0]+\"/Storage/github-clones/fortranLAB\")\n",
    "print(sys.path)"
   ]
  },
  {
   "cell_type": "code",
   "execution_count": 3,
   "metadata": {
    "collapsed": false,
    "scrolled": true
   },
   "outputs": [
    {
     "name": "stdout",
     "output_type": "stream",
     "text": [
      "Help on module python_utils.num_utils in python_utils:\n",
      "\n",
      "NAME\n",
      "    python_utils.num_utils\n",
      "\n",
      "FUNCTIONS\n",
      "    logspacedx(xmin, xmax, npt, base=10)\n",
      "        returns log spaced x from xmin to xmax by calling numpy logspace from emin to emax where xmin=b**emin and xmax=b**emax\n",
      "\n",
      "FILE\n",
      "    /home/segtovichisv/Storage/github-clones/fortranLAB/python_utils/num_utils.py\n",
      "\n",
      "\n"
     ]
    }
   ],
   "source": [
    "from python_utils import num_utils\n",
    "#    |                   |\n",
    "     #package            |\n",
    "                         #module\n",
    "help (num_utils)"
   ]
  },
  {
   "cell_type": "code",
   "execution_count": 4,
   "metadata": {
    "collapsed": false,
    "scrolled": true
   },
   "outputs": [
    {
     "name": "stdout",
     "output_type": "stream",
     "text": [
      "Help on function logspacedx in module python_utils.num_utils:\n",
      "\n",
      "logspacedx(xmin, xmax, npt, base=10)\n",
      "    returns log spaced x from xmin to xmax by calling numpy logspace from emin to emax where xmin=b**emin and xmax=b**emax\n",
      "\n"
     ]
    }
   ],
   "source": [
    "help (num_utils.logspacedx)"
   ]
  },
  {
   "cell_type": "code",
   "execution_count": 5,
   "metadata": {
    "collapsed": false
   },
   "outputs": [
    {
     "name": "stdout",
     "output_type": "stream",
     "text": [
      "[   1.   10.  100.]\n"
     ]
    }
   ],
   "source": [
    "print(num_utils.logspacedx(1,100,3))"
   ]
  },
  {
   "cell_type": "code",
   "execution_count": 6,
   "metadata": {
    "collapsed": false
   },
   "outputs": [
    {
     "name": "stdout",
     "output_type": "stream",
     "text": [
      "Help on module python_utils.version_manifest in python_utils:\n",
      "\n",
      "NAME\n",
      "    python_utils.version_manifest - #module version_manifest\n",
      "\n",
      "FUNCTIONS\n",
      "    version_manifest(f)\n",
      "\n",
      "DATA\n",
      "    modification_time = '\"29/11/17 14:02:10\"'\n",
      "    phys_file_path_str = '/home/segtovichisv/Storage/github-clones/fortran...\n",
      "\n",
      "FILE\n",
      "    /home/segtovichisv/Storage/github-clones/fortranLAB/python_utils/version_manifest.py\n",
      "\n",
      "\n"
     ]
    }
   ],
   "source": [
    "from python_utils import version_manifest\n",
    "help(version_manifest)"
   ]
  },
  {
   "cell_type": "code",
   "execution_count": 7,
   "metadata": {
    "collapsed": false
   },
   "outputs": [
    {
     "name": "stdout",
     "output_type": "stream",
     "text": [
      "Help on function version_manifest in module python_utils.version_manifest:\n",
      "\n",
      "version_manifest(f)\n",
      "\n"
     ]
    }
   ],
   "source": [
    "help(version_manifest.version_manifest)"
   ]
  },
  {
   "cell_type": "code",
   "execution_count": 8,
   "metadata": {
    "collapsed": false
   },
   "outputs": [
    {
     "name": "stdout",
     "output_type": "stream",
     "text": [
      "/home/segtovichisv/Storage/github-clones/fortranLAB/python_utils/version_manifest.py\n",
      "\"29/11/17 14:02:10\"\n"
     ]
    }
   ],
   "source": [
    "print( version_manifest.phys_file_path_str )\n",
    "print( version_manifest.modification_time )"
   ]
  },
  {
   "cell_type": "code",
   "execution_count": 9,
   "metadata": {
    "collapsed": false
   },
   "outputs": [
    {
     "name": "stdout",
     "output_type": "stream",
     "text": [
      "/home/segtovichisv/Storage/github-clones/fortranLAB/python_utils/Testing/Testing.ipynb\n",
      "\"29/11/17 15:01:04\"\n"
     ]
    }
   ],
   "source": [
    "thisfile = \"Testing.ipynb\"\n",
    "thismanifest=version_manifest.version_manifest(thisfile)\n",
    "print(thismanifest[0])\n",
    "print(thismanifest[1])"
   ]
  }
 ],
 "metadata": {
  "kernelspec": {
   "display_name": "Python 3",
   "language": "python",
   "name": "python3"
  },
  "language_info": {
   "codemirror_mode": {
    "name": "ipython",
    "version": 3
   },
   "file_extension": ".py",
   "mimetype": "text/x-python",
   "name": "python",
   "nbconvert_exporter": "python",
   "pygments_lexer": "ipython3",
   "version": "3.6.0"
  }
 },
 "nbformat": 4,
 "nbformat_minor": 2
}
